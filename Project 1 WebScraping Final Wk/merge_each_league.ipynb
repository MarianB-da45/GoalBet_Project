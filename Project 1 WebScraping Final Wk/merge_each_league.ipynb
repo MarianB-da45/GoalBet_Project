{
 "cells": [
  {
   "cell_type": "code",
   "execution_count": 5,
   "metadata": {},
   "outputs": [],
   "source": [
    "#Import Libraries\n",
    "import pandas as pd\n",
    "from datetime import datetime\n",
    "import os\n",
    "from sqlalchemy import create_engine, String, DateTime, Integer, text\n",
    "from dotenv import load_dotenv"
   ]
  },
  {
   "cell_type": "code",
   "execution_count": 6,
   "metadata": {},
   "outputs": [],
   "source": [
    "## Function to merge the csv files\n",
    "\n",
    "def merge_csv(data_location, file_name):\n",
    "\n",
    "    individual_data = []\n",
    "\n",
    "    for filee in os.listdir(data_location):\n",
    "        if filee.endswith('.csv'):\n",
    "            file_path = os.path.join(data_location, filee)\n",
    "            read_data = pd.read_csv(file_path, dtype={'season': str})\n",
    "            individual_data.append(read_data)\n",
    "\n",
    "    E0_Data = pd.concat(individual_data, ignore_index=True)\n",
    "    ff_path = os.path.join(data_location, file_name)\n",
    "    E0_Data.to_csv(ff_path, index=False)\n",
    "    print(f'Data successfully read into the file {file_name}')"
   ]
  },
  {
   "cell_type": "code",
   "execution_count": 7,
   "metadata": {},
   "outputs": [
    {
     "name": "stdout",
     "output_type": "stream",
     "text": [
      "Data successfully read into the file E0_Data.csv\n",
      "Data successfully read into the file E1_Data.csv\n",
      "Data successfully read into the file E2_Data.csv\n"
     ]
    }
   ],
   "source": [
    "# Run merge data function\n",
    "prem_file_name = 'E0_Data.csv'\n",
    "cham_file_name = 'E1_Data.csv'\n",
    "leag_file_name = 'E2_Data.csv'\n",
    "\n",
    "prem_data_location = r'C:\\Users\\User\\OneDrive - Heritage of God Ministries Society\\Desktop\\Project 1 WebScraping Final Wk\\Premiership'\n",
    "cham_data_location = r'C:\\Users\\User\\OneDrive - Heritage of God Ministries Society\\Desktop\\Project 1 WebScraping Final Wk\\Championship'\n",
    "leag_data_location = r'C:\\Users\\User\\OneDrive - Heritage of God Ministries Society\\Desktop\\Project 1 WebScraping Final Wk\\League 1'\n",
    "\n",
    "merge_csv(prem_data_location, prem_file_name)\n",
    "merge_csv(cham_data_location, cham_file_name)\n",
    "merge_csv(leag_data_location, leag_file_name)\n"
   ]
  },
  {
   "cell_type": "markdown",
   "metadata": {},
   "source": [
    "##### Transformation"
   ]
  },
  {
   "cell_type": "code",
   "execution_count": 8,
   "metadata": {},
   "outputs": [],
   "source": [
    "## Transformation function\n",
    "def clean_data(base_directory, league, file_name):\n",
    "    file_path = os.path.join(base_directory, league, file_name)\n",
    "\n",
    "    # Read the csv and deal with the date issue - this also converts the date column to datetime datatype\n",
    "    d_Data = pd.read_csv(file_path, parse_dates=['Date'], dayfirst=True)\n",
    "\n",
    "    d_Data['Date'] = pd.to_datetime(d_Data['Date'], format='%d/%m/%Y')\n",
    "\n",
    "    # Convert the goal columns to integers\n",
    "    d_Data[['FTAG', 'FTHG']] = d_Data[['FTAG', 'FTHG']].astype('int64')\n",
    "\n",
    "    # Fill null times with a default time - 15:00\n",
    "    d_Data['Time'] = d_Data['Time'].fillna('15:00')\n",
    "\n",
    "    # Convert season column to str\n",
    "    d_Data['season'] = d_Data['season'].astype(str)\n",
    "\n",
    "    # Sort the data by date in descending order\n",
    "    d_Data = d_Data.sort_values(by='Date', ascending=False)\n",
    "\n",
    "    # Reset the index\n",
    "    d_Data.reset_index(drop=True, inplace=True)\n",
    "\n",
    "    return d_Data"
   ]
  },
  {
   "cell_type": "code",
   "execution_count": 9,
   "metadata": {},
   "outputs": [
    {
     "name": "stderr",
     "output_type": "stream",
     "text": [
      "C:\\Users\\User\\AppData\\Local\\Temp\\ipykernel_12416\\1011505343.py:6: UserWarning: Could not infer format, so each element will be parsed individually, falling back to `dateutil`. To ensure parsing is consistent and as-expected, please specify a format.\n",
      "  d_Data = pd.read_csv(file_path, parse_dates=['Date'], dayfirst=True)\n",
      "C:\\Users\\User\\AppData\\Local\\Temp\\ipykernel_12416\\1011505343.py:6: UserWarning: Could not infer format, so each element will be parsed individually, falling back to `dateutil`. To ensure parsing is consistent and as-expected, please specify a format.\n",
      "  d_Data = pd.read_csv(file_path, parse_dates=['Date'], dayfirst=True)\n",
      "C:\\Users\\User\\AppData\\Local\\Temp\\ipykernel_12416\\1011505343.py:6: UserWarning: Could not infer format, so each element will be parsed individually, falling back to `dateutil`. To ensure parsing is consistent and as-expected, please specify a format.\n",
      "  d_Data = pd.read_csv(file_path, parse_dates=['Date'], dayfirst=True)\n"
     ]
    }
   ],
   "source": [
    "# Run clean data function\n",
    "base_directory = r'C:\\Users\\User\\OneDrive - Heritage of God Ministries Society\\Desktop\\Project 1 WebScraping Final Wk'\n",
    "\n",
    "prem_data = clean_data(base_directory, 'Premiership', 'E0_Data.csv')\n",
    "cham_data = clean_data(base_directory, 'Championship', 'E1_Data.csv')\n",
    "leag_data = clean_data(base_directory, 'League 1', 'E2_Data.csv')\n"
   ]
  },
  {
   "cell_type": "code",
   "execution_count": 10,
   "metadata": {},
   "outputs": [
    {
     "name": "stdout",
     "output_type": "stream",
     "text": [
      "<class 'pandas.core.frame.DataFrame'>\n",
      "RangeIndex: 34176 entries, 0 to 34175\n",
      "Data columns (total 8 columns):\n",
      " #   Column    Non-Null Count  Dtype         \n",
      "---  ------    --------------  -----         \n",
      " 0   Div       34176 non-null  object        \n",
      " 1   season    34176 non-null  object        \n",
      " 2   Date      34176 non-null  datetime64[ns]\n",
      " 3   Time      34176 non-null  object        \n",
      " 4   HomeTeam  34176 non-null  object        \n",
      " 5   AwayTeam  34176 non-null  object        \n",
      " 6   FTHG      34176 non-null  int64         \n",
      " 7   FTAG      34176 non-null  int64         \n",
      "dtypes: datetime64[ns](1), int64(2), object(5)\n",
      "memory usage: 2.1+ MB\n"
     ]
    }
   ],
   "source": [
    "leag_data.info()"
   ]
  },
  {
   "cell_type": "code",
   "execution_count": 11,
   "metadata": {},
   "outputs": [
    {
     "data": {
      "text/html": [
       "<div>\n",
       "<style scoped>\n",
       "    .dataframe tbody tr th:only-of-type {\n",
       "        vertical-align: middle;\n",
       "    }\n",
       "\n",
       "    .dataframe tbody tr th {\n",
       "        vertical-align: top;\n",
       "    }\n",
       "\n",
       "    .dataframe thead th {\n",
       "        text-align: right;\n",
       "    }\n",
       "</style>\n",
       "<table border=\"1\" class=\"dataframe\">\n",
       "  <thead>\n",
       "    <tr style=\"text-align: right;\">\n",
       "      <th></th>\n",
       "      <th>Div</th>\n",
       "      <th>season</th>\n",
       "      <th>Date</th>\n",
       "      <th>Time</th>\n",
       "      <th>HomeTeam</th>\n",
       "      <th>AwayTeam</th>\n",
       "      <th>FTHG</th>\n",
       "      <th>FTAG</th>\n",
       "    </tr>\n",
       "  </thead>\n",
       "  <tbody>\n",
       "    <tr>\n",
       "      <th>0</th>\n",
       "      <td>E1</td>\n",
       "      <td>2425</td>\n",
       "      <td>2024-10-20</td>\n",
       "      <td>15:00</td>\n",
       "      <td>Hull</td>\n",
       "      <td>Sunderland</td>\n",
       "      <td>0</td>\n",
       "      <td>1</td>\n",
       "    </tr>\n",
       "    <tr>\n",
       "      <th>1</th>\n",
       "      <td>E1</td>\n",
       "      <td>2425</td>\n",
       "      <td>2024-10-20</td>\n",
       "      <td>15:00</td>\n",
       "      <td>Hull</td>\n",
       "      <td>Sunderland</td>\n",
       "      <td>0</td>\n",
       "      <td>1</td>\n",
       "    </tr>\n",
       "    <tr>\n",
       "      <th>2</th>\n",
       "      <td>E1</td>\n",
       "      <td>2425</td>\n",
       "      <td>2024-10-19</td>\n",
       "      <td>12:30</td>\n",
       "      <td>Cardiff</td>\n",
       "      <td>Plymouth</td>\n",
       "      <td>5</td>\n",
       "      <td>0</td>\n",
       "    </tr>\n",
       "    <tr>\n",
       "      <th>3</th>\n",
       "      <td>E1</td>\n",
       "      <td>2425</td>\n",
       "      <td>2024-10-19</td>\n",
       "      <td>12:30</td>\n",
       "      <td>Cardiff</td>\n",
       "      <td>Plymouth</td>\n",
       "      <td>5</td>\n",
       "      <td>0</td>\n",
       "    </tr>\n",
       "    <tr>\n",
       "      <th>4</th>\n",
       "      <td>E1</td>\n",
       "      <td>2425</td>\n",
       "      <td>2024-10-19</td>\n",
       "      <td>12:30</td>\n",
       "      <td>Luton</td>\n",
       "      <td>Watford</td>\n",
       "      <td>3</td>\n",
       "      <td>0</td>\n",
       "    </tr>\n",
       "  </tbody>\n",
       "</table>\n",
       "</div>"
      ],
      "text/plain": [
       "  Div season       Date   Time HomeTeam    AwayTeam  FTHG  FTAG\n",
       "0  E1   2425 2024-10-20  15:00     Hull  Sunderland     0     1\n",
       "1  E1   2425 2024-10-20  15:00     Hull  Sunderland     0     1\n",
       "2  E1   2425 2024-10-19  12:30  Cardiff    Plymouth     5     0\n",
       "3  E1   2425 2024-10-19  12:30  Cardiff    Plymouth     5     0\n",
       "4  E1   2425 2024-10-19  12:30    Luton     Watford     3     0"
      ]
     },
     "execution_count": 11,
     "metadata": {},
     "output_type": "execute_result"
    }
   ],
   "source": [
    "cham_data.head()"
   ]
  },
  {
   "cell_type": "markdown",
   "metadata": {},
   "source": [
    "#### Loading Data to the DB"
   ]
  },
  {
   "cell_type": "code",
   "execution_count": 12,
   "metadata": {},
   "outputs": [
    {
     "data": {
      "text/plain": [
       "True"
      ]
     },
     "execution_count": 12,
     "metadata": {},
     "output_type": "execute_result"
    }
   ],
   "source": [
    "load_dotenv(override=True)"
   ]
  },
  {
   "cell_type": "code",
   "execution_count": 13,
   "metadata": {},
   "outputs": [],
   "source": [
    "# Credentials\n",
    "hostname = os.getenv('hostname')\n",
    "username = os.getenv('username')\n",
    "password = os.getenv('password')\n",
    "port = os.getenv('port')\n",
    "db_name = os.getenv('db_name')\n",
    "\n",
    "# Create the DB engine\n",
    "db_url = f'postgresql+psycopg2://{username}:{password}@{hostname}:{port}/{db_name}'\n",
    "engine = create_engine(db_url)"
   ]
  },
  {
   "cell_type": "code",
   "execution_count": 21,
   "metadata": {},
   "outputs": [],
   "source": [
    "### CREATE TABLE\n",
    "## SPECIFY THE REQUIRED COLUMNS\n",
    "\n",
    "schemaa = 'GoalBet'\n",
    "\n",
    "my_columns = {\n",
    "    'Div' : String,\n",
    "    'Date' : DateTime,\n",
    "    'Time' : String,\n",
    "    'HomeTeam' : String,\n",
    "    'AwayTeam' : String,\n",
    "    'FTHG' : Integer,\n",
    "    'FTAG' : Integer\n",
    "}"
   ]
  },
  {
   "cell_type": "code",
   "execution_count": 22,
   "metadata": {},
   "outputs": [
    {
     "data": {
      "text/plain": [
       "176"
      ]
     },
     "execution_count": 22,
     "metadata": {},
     "output_type": "execute_result"
    }
   ],
   "source": [
    "## Loading the data to postgresql\n",
    "\n",
    "prem_data.to_sql('Premiership', schema=schemaa, con=engine, index=False, dtype=my_columns)\n",
    "cham_data.to_sql('Championship', schema=schemaa, con=engine, index=False, dtype=my_columns)\n",
    "leag_data.to_sql('League_1', schema=schemaa, con=engine, index=False, dtype=my_columns)\n"
   ]
  },
  {
   "cell_type": "markdown",
   "metadata": {},
   "source": [
    "##### Automation to get new data"
   ]
  },
  {
   "cell_type": "code",
   "execution_count": 23,
   "metadata": {},
   "outputs": [],
   "source": [
    "## Get the last date from the DB\n",
    "sql_query = f'SELECT max(\"Date\") FROM \"{schemaa}\".\"Premiership\";'\n",
    "\n",
    "last_date_record = pd.read_sql(sql_query, engine)"
   ]
  },
  {
   "cell_type": "code",
   "execution_count": 24,
   "metadata": {},
   "outputs": [
    {
     "name": "stdout",
     "output_type": "stream",
     "text": [
      "2024-10-21 00:00:00\n"
     ]
    }
   ],
   "source": [
    "last_date = last_date_record.iloc[0, 0]\n",
    "\n",
    "print(last_date)"
   ]
  },
  {
   "cell_type": "code",
   "execution_count": null,
   "metadata": {},
   "outputs": [],
   "source": []
  }
 ],
 "metadata": {
  "kernelspec": {
   "display_name": "base",
   "language": "python",
   "name": "python3"
  },
  "language_info": {
   "codemirror_mode": {
    "name": "ipython",
    "version": 3
   },
   "file_extension": ".py",
   "mimetype": "text/x-python",
   "name": "python",
   "nbconvert_exporter": "python",
   "pygments_lexer": "ipython3",
   "version": "3.12.4"
  }
 },
 "nbformat": 4,
 "nbformat_minor": 2
}
